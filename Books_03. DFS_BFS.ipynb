{
 "cells": [
  {
   "cell_type": "code",
   "execution_count": 2,
   "id": "166f7603",
   "metadata": {},
   "outputs": [
    {
     "name": "stdout",
     "output_type": "stream",
     "text": [
      "1 2 7 6 8 3 4 5 "
     ]
    }
   ],
   "source": [
    "# dfs 구성\n",
    "\n",
    "def dfs(graph, v, visited):\n",
    "    visited[v] = True\n",
    "    print(v, end = ' ')\n",
    "    for i in graph[v]:\n",
    "        if not visited[i]:\n",
    "            dfs(graph, i, visited)\n",
    "            \n",
    "graph = [\n",
    "    [],\n",
    "    [2,3,8],\n",
    "    [1,7],\n",
    "    [1,4,5],\n",
    "    [3,5],\n",
    "    [3,4],\n",
    "    [7],\n",
    "    [2,6,8],\n",
    "    [1,7]\n",
    "]\n",
    "\n",
    "visited = [False] * 9\n",
    "\n",
    "dfs(graph, 1, visited)"
   ]
  },
  {
   "cell_type": "code",
   "execution_count": 4,
   "id": "2d6ebef1",
   "metadata": {},
   "outputs": [
    {
     "name": "stdout",
     "output_type": "stream",
     "text": [
      "1 2 3 8 7 4 5 6 "
     ]
    }
   ],
   "source": [
    "# bfs 구성\n",
    "\n",
    "from collections import deque\n",
    "\n",
    "def bfs(graph, start, visited):\n",
    "    queue = deque([start])\n",
    "    visited[start] = True\n",
    "    while queue:\n",
    "        v = queue.popleft()\n",
    "        print(v, end = ' ')\n",
    "        for i in graph[v]:\n",
    "            if not visited[i]:\n",
    "                queue.append(i)\n",
    "                visited[i] = True\n",
    "        \n",
    "graph = [\n",
    "    [],\n",
    "    [2,3,8],\n",
    "    [1,7],\n",
    "    [1,4,5],\n",
    "    [3,5],\n",
    "    [3,4],\n",
    "    [7],\n",
    "    [2,6,8],\n",
    "    [1,7]\n",
    "]\n",
    "\n",
    "visited = [False] * 9\n",
    "\n",
    "bfs(graph, 1, visited)"
   ]
  },
  {
   "cell_type": "code",
   "execution_count": 18,
   "id": "6a6dbfdf",
   "metadata": {},
   "outputs": [
    {
     "name": "stdout",
     "output_type": "stream",
     "text": [
      "15 14\n",
      "00000111100000\n",
      "11111101111110\n",
      "11011101101110\n",
      "11011101100000\n",
      "11011111111111\n",
      "11011111111100\n",
      "11000000011111\n",
      "01111111111111\n",
      "00000000011111\n",
      "01111111111000\n",
      "00011111111000\n",
      "00000001111000\n",
      "11111111110011\n",
      "11100011111111\n",
      "11100011111111\n",
      "8\n"
     ]
    }
   ],
   "source": [
    "# 음료수 얼려 먹기_ 내풀이(1) - bfs\n",
    "\n",
    "from collections import deque\n",
    "\n",
    "n, m = map(int,input().split())\n",
    "\n",
    "graph = []\n",
    "for _ in range(n):\n",
    "    graph.append(list(map(int,input())))\n",
    "    \n",
    "result = 0\n",
    "for i in range(n):\n",
    "    for j in range(m):\n",
    "        if graph[i][j] == 0:\n",
    "            queue = deque([(i,j)])\n",
    "            while queue:\n",
    "                v = queue.popleft()\n",
    "                a, b = v[0], v[1]\n",
    "                graph[a][b] = 1\n",
    "                if a <= n-1 and b + 1 <= m - 1:\n",
    "                    if graph[a][b+1] == 0:\n",
    "                        queue.append((a,b+1))\n",
    "                if a + 1 <= n - 1 and b <= m -1:\n",
    "                    if graph[a+1][b] == 0:\n",
    "                        queue.append((a+1,b))\n",
    "                if a > 0 and b-1 > 0:\n",
    "                    if graph[a][b-1] == 0:\n",
    "                        queue.append((a,b-1))\n",
    "                if a-1 > 0 and b > 0:\n",
    "                    if graph[a-1][b] == 0:\n",
    "                        queue.append((a-1,b))\n",
    "                        \n",
    "            result += 1\n",
    "                \n",
    "print(result)"
   ]
  },
  {
   "cell_type": "code",
   "execution_count": 25,
   "id": "3e435bf7",
   "metadata": {},
   "outputs": [
    {
     "name": "stdout",
     "output_type": "stream",
     "text": [
      "15 14\n",
      "00000111100000\n",
      "11111101111110\n",
      "11011101101110\n",
      "11011101100000\n",
      "11011111111111\n",
      "11011111111100\n",
      "11000000011111\n",
      "01111111111111\n",
      "00000000011111\n",
      "01111111111000\n",
      "00011111111000\n",
      "00000001111000\n",
      "11111111110011\n",
      "11100011111111\n",
      "11100011111111\n",
      "8\n"
     ]
    }
   ],
   "source": [
    "# 음료수 얼려 먹기_ 내풀이(2) - bfs\n",
    "\n",
    "from collections import deque\n",
    "\n",
    "n, m = map(int,input().split())\n",
    "\n",
    "graph = []\n",
    "for _ in range(n):\n",
    "    graph.append(list(map(int,input())))\n",
    "    \n",
    "da = [0,+1,0,-1]\n",
    "db = [+1,0,-1,0]\n",
    "\n",
    "result = 0\n",
    "for i in range(n):\n",
    "    for j in range(m):\n",
    "        if graph[i][j] == 0:\n",
    "            queue = deque([(i,j)])\n",
    "            while queue:\n",
    "                v = queue.popleft()\n",
    "                a, b = v[0], v[1]\n",
    "                graph[a][b] = 1\n",
    "                for k in range(4):\n",
    "                    na = a + da[k]\n",
    "                    nb = b + db[k]\n",
    "                    if 0 <= na <= n-1 and 0 <= nb <= m-1:\n",
    "                        if graph[na][nb] == 0:\n",
    "                            queue.append((na,nb))\n",
    "                    \n",
    "            result += 1\n",
    "                \n",
    "print(result)"
   ]
  },
  {
   "cell_type": "code",
   "execution_count": null,
   "id": "e5c920ee",
   "metadata": {},
   "outputs": [],
   "source": [
    "# 음료수 얼려 먹기_ 정답풀이 - dfs\n",
    "\n",
    "n, m = map(int,input().split())\n",
    "\n",
    "graph = []\n",
    "for i in range(n):\n",
    "    graph.append(list(map(int,input())))\n",
    "    \n",
    "def dfs(x, y):\n",
    "    if x <= -1 or x >= n or y <= -1 or y >= m:\n",
    "        return False\n",
    "    if graph[x][y] == 0:\n",
    "        graph[x][y] = 1\n",
    "        dfs(x-1,y)\n",
    "        dfs(x,y-1)\n",
    "        dfs(x+1,y)\n",
    "        dfs(x,y+1)\n",
    "        return True\n",
    "    return False\n",
    "\n",
    "result = 0\n",
    "for i in range(n):\n",
    "    for j in range(m):\n",
    "        if dfs(i,j) == True:\n",
    "            result += 1\n",
    "        \n",
    "print(result)\n",
    "\n",
    "\n",
    "# 재귀함수를 사용하면은, list의 index에 맞지 않는 애들을 이렇게 쉽게 걸러낼 수 있다."
   ]
  },
  {
   "cell_type": "code",
   "execution_count": 4,
   "id": "873b70d1",
   "metadata": {},
   "outputs": [
    {
     "name": "stdout",
     "output_type": "stream",
     "text": [
      "5 6\n",
      "101010\n",
      "111111\n",
      "000001\n",
      "111111\n",
      "111111\n",
      "10\n"
     ]
    }
   ],
   "source": [
    "# 미로 탈출_ 나의 풀이 - dfs\n",
    "\n",
    "n, m = map(int,input().split())\n",
    "INF = 999999999\n",
    "\n",
    "graph = []\n",
    "for _ in range(n):\n",
    "    graph.append(list(map(int,input())))\n",
    "    \n",
    "def dfs(row, column):\n",
    "\n",
    "    if not (0 <= row <= n-1 and 0 <= column <= m-1):\n",
    "        return INF\n",
    "\n",
    "    if row == n-1 and column == m-1:\n",
    "        return 1\n",
    "    if graph[row][column] == 1:\n",
    "        graph[row][column]=0       \n",
    "        return min(dfs(row,column+1),dfs(row+1,column),dfs(row,column-1),dfs(row-1,column)) + 1\n",
    "    return INF\n",
    "\n",
    "print(dfs(0,0))\n",
    "\n",
    "# 푸는 과정에서 조금 헤맸는데, 그 이유는 \n",
    "# 첫째, row랑 column을 x,y로 쓰다보니 중간에 헷갈렸고\n",
    "# 둘째, min()함수에 dfs()함수를 넣어야 하는데 graph()함수를 넣었다.\n",
    "# 셋째, 가장 중요 한 실수였는데, False는 0으로 계산된다는 것이다.\n",
    "# 생각해보면 당연하지만, False이면 당연히 계산값에서 제외될 것이라고 생각하고 있었다.\n",
    "# 그래서 밑에서 테스트를 해보았고, 그 결과를 통해 그렇지 않다는 것을 알 수 있게 되었다. "
   ]
  },
  {
   "cell_type": "code",
   "execution_count": 3,
   "id": "a44e9cac",
   "metadata": {},
   "outputs": [
    {
     "name": "stdout",
     "output_type": "stream",
     "text": [
      "5 6\n",
      "101010\n",
      "111000\n",
      "001111\n",
      "011000\n",
      "111111\n",
      "10\n"
     ]
    }
   ],
   "source": [
    "from collections import deque\n",
    "\n",
    "n, m = map(int,input().split())\n",
    "graph = []\n",
    "for i in range(n):\n",
    "    graph.append(list(map(int,input())))\n",
    "\n",
    "dx = [-1,1,0,0]\n",
    "dy = [0,0,-1,1]\n",
    "\n",
    "def bfs(x,y):\n",
    "    queue = deque()\n",
    "    queue.append((x,y))\n",
    "    while queue:\n",
    "        x, y = queue.popleft()\n",
    "        for i in range(4):\n",
    "            nx = x + dx[i]\n",
    "            ny = y + dy[i]\n",
    "            if nx < 0 or ny < 0 or nx >= n or ny >= m:\n",
    "                continue\n",
    "            if graph[nx][ny] == 0:\n",
    "                continue\n",
    "            if graph[nx][ny] == 1:\n",
    "                graph[nx][ny] = graph[x][y] + 1\n",
    "                queue.append((nx,ny))\n",
    "\n",
    "    return graph[n-1][m-1]\n",
    "\n",
    "print(bfs(0,0))\n",
    "\n",
    "# bfs로 풀더라도 이 풀이처럼 continue를 사용하면 더욱 가독성이 높아진다.\n",
    "# 이럴 수 있도록 하자. 또한 상하좌우를 다 고려하면서도 결과를 끝까지 끌고 갈 수 있도록\n",
    "# graph값을 계속 변화시켜주는 모습이다. 좋은 방법인 것 같다.알아두자."
   ]
  },
  {
   "cell_type": "code",
   "execution_count": null,
   "id": "589b2ab7",
   "metadata": {},
   "outputs": [],
   "source": []
  },
  {
   "cell_type": "code",
   "execution_count": null,
   "id": "19aa6caa",
   "metadata": {},
   "outputs": [],
   "source": []
  },
  {
   "cell_type": "code",
   "execution_count": null,
   "id": "4f5f8a4e",
   "metadata": {},
   "outputs": [],
   "source": []
  },
  {
   "cell_type": "code",
   "execution_count": null,
   "id": "de56c860",
   "metadata": {},
   "outputs": [],
   "source": []
  },
  {
   "cell_type": "code",
   "execution_count": null,
   "id": "5b5a772d",
   "metadata": {},
   "outputs": [],
   "source": []
  },
  {
   "cell_type": "code",
   "execution_count": null,
   "id": "ae605dd9",
   "metadata": {},
   "outputs": [],
   "source": []
  },
  {
   "cell_type": "code",
   "execution_count": null,
   "id": "dbf6e827",
   "metadata": {},
   "outputs": [],
   "source": []
  },
  {
   "cell_type": "code",
   "execution_count": null,
   "id": "a3a05f7a",
   "metadata": {},
   "outputs": [],
   "source": []
  },
  {
   "cell_type": "code",
   "execution_count": null,
   "id": "3103e72c",
   "metadata": {},
   "outputs": [],
   "source": []
  },
  {
   "cell_type": "code",
   "execution_count": null,
   "id": "da3a7de2",
   "metadata": {},
   "outputs": [],
   "source": []
  },
  {
   "cell_type": "code",
   "execution_count": null,
   "id": "44349a3c",
   "metadata": {},
   "outputs": [],
   "source": []
  },
  {
   "cell_type": "code",
   "execution_count": null,
   "id": "d20622e5",
   "metadata": {},
   "outputs": [],
   "source": []
  },
  {
   "cell_type": "code",
   "execution_count": null,
   "id": "88739cf4",
   "metadata": {},
   "outputs": [],
   "source": []
  },
  {
   "cell_type": "code",
   "execution_count": null,
   "id": "62c7c272",
   "metadata": {},
   "outputs": [],
   "source": []
  },
  {
   "cell_type": "code",
   "execution_count": null,
   "id": "af84fe70",
   "metadata": {},
   "outputs": [],
   "source": []
  }
 ],
 "metadata": {
  "kernelspec": {
   "display_name": "Python 3 (ipykernel)",
   "language": "python",
   "name": "python3"
  },
  "language_info": {
   "codemirror_mode": {
    "name": "ipython",
    "version": 3
   },
   "file_extension": ".py",
   "mimetype": "text/x-python",
   "name": "python",
   "nbconvert_exporter": "python",
   "pygments_lexer": "ipython3",
   "version": "3.9.7"
  }
 },
 "nbformat": 4,
 "nbformat_minor": 5
}
