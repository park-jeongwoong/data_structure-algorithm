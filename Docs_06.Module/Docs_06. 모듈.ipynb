{
 "cells": [
  {
   "cell_type": "code",
   "execution_count": null,
   "id": "0a208c1e",
   "metadata": {},
   "outputs": [],
   "source": [
    "#. 모듈 (= 라이브러리)\n",
    "\n",
    "\"\"\"\n",
    "모듈은 어떤 프로그램, 여러 프로그램에서썼던 편리한 함수나 입력 스크립트, 쪼개어 놓은 파일들을\n",
    "직접 복사하지 않고도 사용할 수 있게 해주는 방법이다.\n",
    "\n",
    "파일로서 그것들을 저장하고 불러올(import) 수 있게 하는 것인데,\n",
    "그러한 것들을 저장한 파일을 '모듈'이라고 한다.\n",
    "\n",
    "이러한 모듈안의 정의들이 다른 모듈이나 메인모듈로 임포트될 수 있는 것이다.\n",
    "(메인 모듈은 최상위 수준에서 실행되는 스크립트, 계산기모드에서 액세스하는 변수들의 컬렉션이다.)\n",
    "\n",
    "\"\"\""
   ]
  },
  {
   "cell_type": "code",
   "execution_count": 23,
   "id": "a497071c",
   "metadata": {},
   "outputs": [
    {
     "name": "stdout",
     "output_type": "stream",
     "text": [
      "0 1 1 2 3 5 8 13 21 34 55 89 144 233 377 610 987 \n",
      "None\n",
      "[0, 1, 1, 2, 3, 5, 8, 13, 21, 34, 55, 89, 144, 233, 377, 610, 987]\n",
      "fibo\n",
      "\n",
      "0 1 1 2 3 5 8 13 21 34 55 89 144 233 377 610 987 \n",
      "None\n",
      "\n",
      "0 1 1 2 3 5 8 \n",
      "0 1 1 2 3 5 8 13 \n",
      "\n",
      "0 1 1 2 3 \n"
     ]
    }
   ],
   "source": [
    "# 파이썬 docs 에는 fibo 라는 py파일을 만들어 바로 불러오는 것으로 설명이 나와있다.\n",
    "# 하지만 주피터 노트북을 사용 하는 나로서는 주피터 노트북 파일을 하나 만드는 것으로는 모듈을 만들 수 없었다.\n",
    "# 주피터 노트북으로 모듈 파일을 만들려면 불편하더라도 \n",
    "# 아나콘다 cmd를 켠 뒤 'idle'를 띄워서 py 파일로 만들어야 할 것 같다.(뭐 메모장으로 만들어도 무방하겠다.)\n",
    "\n",
    "# 이제 해당 디렉토리에 파일을 만들었으니 fibo를 import 해보고 다양한 함수를 사용해보자.\n",
    "import fibo\n",
    "print(fibo.fib(1000))\n",
    "print(fibo.fib2(1000))\n",
    "print(fibo.__name__)  # 해당 모듈의 이름을 불러올 수 있다.\n",
    "print()\n",
    "\n",
    "# 함수를 자주 사용할 것이라면 로컬 네임에 대입시켜 사용할 수도 있다.\n",
    "fib = fibo.fib\n",
    "print(fib(1000))\n",
    "print()\n",
    "\n",
    "# 함수 끝마다 None이 출력되는 이유는 return 값이 없기 때문이다.\n",
    "# None 없이 출력하고 싶다면 print() 대신 그냥 함수만 작성해주면 된다. \n",
    "fib(10)\n",
    "fib(20)\n",
    "fibo.fib2(100) # 근데 왜 fib2는 이런 식으로 출력해도 출력되지 않는지 모르겠다..\n",
    "print()\n",
    "fib(5)"
   ]
  },
  {
   "cell_type": "code",
   "execution_count": 27,
   "id": "445f73f7",
   "metadata": {},
   "outputs": [
    {
     "name": "stdout",
     "output_type": "stream",
     "text": [
      "[0, 1, 1, 2, 3, 5, 8, 13, 21, 34, 55, 89]\n",
      "[0, 1, 1, 2, 3, 5, 8, 13, 21, 34, 55, 89]\n",
      "0 1 1 2 3 5 8 13 21 34 55 89 144 233 377 \n"
     ]
    }
   ],
   "source": [
    "# 모듈을 불러오는 방법\n",
    "\n",
    "# 굳이 모듈의 함수에 local 네임을 붙이지 않더라도 그 함수 자체를 사용할 수 있는 방법이 있는데,\n",
    "# 바로 from ~ import ~ 문장을 사용하는 것이다.\n",
    "\n",
    "from fibo import fib2\n",
    "\n",
    "print(fib2(100))\n",
    "\n",
    "# 와 같이, 위에서처럼 fibo.fib2() 로 사용하지 않아도 된다.\n",
    "# 이때 import 대상에 *를 놓음으로써 모든 정의들을 불러올 수 있는데,\n",
    "# 이미 작성중인 모듈(로컬 심볼 테이블)의 변수이름과 겹치는 일이 생길 수 있기 때문이다. \n",
    "# 따라서 이는 잘 사용하지 않는 방법이라고 한다.\n",
    "\n",
    "import fibo as a\n",
    "\n",
    "# 혹은 전부를 import 하되, 이름이 겹치지 않도록 위와 같은 문장을 작성하는 것도 좋은 방법이다.\n",
    "print(a.fib2(100))\n",
    "# 이렇게 하면 모든 정의들을 불러오되, 이름이 겹치지는 않도록 하며, 모듈의 이름을 전부 치지 않아도 되기 때문이다.\n",
    "\n",
    "from fibo import fib as fibonacci\n",
    "fibonacci(500)\n",
    "\n",
    "# 이렇게 함수 뒤에 쓰면 fib이라는 함수를 불러오되, fibonacci로 나는 부를거야 하는 뜻이 된다."
   ]
  },
  {
   "cell_type": "code",
   "execution_count": 1,
   "id": "a7851543",
   "metadata": {
    "collapsed": true
   },
   "outputs": [
    {
     "data": {
      "text/plain": [
       "\"\\n#. 인터프리터 vs 스크립트\\n\\n인터프리터는 언어의 소스코드를 바로바로 실행해주는 환경을 말하고,\\n스크립트는 그보다 좀 더 긴 프로그램을 쓸 때, 편집기로 입력하여 한번에 실행해주는 파일을 말한다.\\n\\n주피터 노트북을 사용하는 나의 입장에서 현실적으로 이를 알아보자.\\n\\nanaconda라고 검색창에 입력하여 실행하면, 실행되는 파일은 '아나콘다 프롬프트'이다.\\n명령 프롬프트는 명령어를 입력하면 그것을 실행시켜주는 셀을 의미한다.\\n\\n이때, 나는 아나콘다를 사용하고 있기 때문에 cmd(명령 프롬프트)가 아니라 아나콘다 프롬프트를 켠다고 보면 된다.\\n실제로 cmd에 python을 치면 python을 설치할 수 있는 마이크로소프트 스토어 링크를 열어준다.\\n\\n그렇다면 다시 돌아와 아나콘다 프롬프트를 켰다.\\n파이썬이라는 '인터프리터'의 문법에 맞추어 코드를 작성하면 한 줄마다 결과가 출력된다.\\n이때 이런 쉘을 '스크립트'라고 한다.\\n\\n반면, 주피터 노트북을 켜서/ 혹은 아나콘다의 프롬프트에 idle 라고 친 후에/\\n코드로 작성하여 파일로 저장할 때 그것은 '모듈'이라고 한다.\\n\""
      ]
     },
     "execution_count": 1,
     "metadata": {},
     "output_type": "execute_result"
    }
   ],
   "source": [
    "# 6.1.1. 모듈을 스크립트로 실행하기\n",
    "\n",
    "\"\"\"\n",
    "본 장의 목적은 모듈(파일로 저장한 코드)을 스크립트에서 바로바로 사용할 수 있는 방법을 알아보고자 함에 있다.\n",
    "\"\"\"\n",
    "\n",
    "\"\"\"\n",
    "앞서 모듈의 __name__을 알아보는 함수를 작성해보았다.\n",
    "모듈을 import하여 실행할 때에는 그것의 __name__은 \"__fibo__\"였지만,\n",
    "그 모듈을 스크립트를 통해 실행하게 되면 그 모듈은  <메인> 파일로서, __name__이 \"__main__\"이 된다.\n",
    "\n",
    "이에 입각하여 스크립트에서 모듈을 켜 간단하게 입출력을 할 수 있도록 해보자.\n",
    "\"\"\"\n",
    "\n",
    "\"\"\"\n",
    "if __name__ == \"__main__\":\n",
    "    import sys\n",
    "    fib(int(sys.argv[1]))\n",
    "\"\"\"\n",
    "\n",
    "\"\"\"\n",
    "위의 코드를 모듈의 끝에 붙여주면,\n",
    "이 모듈은 다른 모듈에서 import할 수 있는 파일일 뿐 아니라,\n",
    "스크립트에서도 사용할 수 있게 된다.\n",
    "\n",
    "(1)\n",
    "모듈이 '메인'파일로 실행될 때(스크립트로 실행)에는, if절 아래의 명령행을 실행할 것이다.\n",
    "\n",
    "만약 스크립트에서 python fibo.py 50 이렇게 치게 되면은,\n",
    "'python' 뒤의 'fibo.py 50' 부분은 <arguments>가 되는 것이고\n",
    "arguments의 index = 1 인 50이 int로서 fib() 함수의 매개변수로 입력되는 것이다.\n",
    "\n",
    "(2)\n",
    "모듈이 임포트될 때에는 if절 아래의 명령행이 실행되지 않을 것이다.\n",
    "\n",
    "\"\"\"\n",
    "\n",
    "# 이 기능은 주로 모듈에 대한 테스트 목적으로 사용할 수 있다. \n",
    "\n",
    "\"\"\"\n",
    "#. 인터프리터 vs 스크립트\n",
    "\n",
    "인터프리터는 언어의 소스코드를 바로바로 실행해주는 환경을 말하고,\n",
    "스크립트는 그보다 좀 더 긴 프로그램을 쓸 때, 편집기로 입력하여 한번에 실행해주는 파일을 말한다.\n",
    "\n",
    "주피터 노트북을 사용하는 나의 입장에서 현실적으로 이를 알아보자.\n",
    "\n",
    "anaconda라고 검색창에 입력하여 실행하면, 실행되는 파일은 '아나콘다 프롬프트'이다.\n",
    "명령 프롬프트는 명령어를 입력하면 그것을 실행시켜주는 셀을 의미한다.\n",
    "\n",
    "이때, 나는 아나콘다를 사용하고 있기 때문에 cmd(명령 프롬프트)가 아니라 아나콘다 프롬프트를 켠다고 보면 된다.\n",
    "실제로 cmd에 python을 치면 python을 설치할 수 있는 마이크로소프트 스토어 링크를 열어준다.\n",
    "\n",
    "그렇다면 다시 돌아와 아나콘다 프롬프트를 켰다.\n",
    "파이썬이라는 '인터프리터'의 문법에 맞추어 코드를 작성하면 한 줄마다 결과가 출력된다.\n",
    "이때 이런 쉘을 '스크립트'라고 한다.\n",
    "\n",
    "반면, 주피터 노트북을 켜서/ 혹은 아나콘다의 프롬프트에 idle 라고 친 후에/\n",
    "코드로 작성하여 파일로 저장할 때 그것은 '모듈'이라고 한다.\n",
    "\"\"\""
   ]
  },
  {
   "cell_type": "code",
   "execution_count": null,
   "id": "14d9d1c2",
   "metadata": {},
   "outputs": [],
   "source": [
    "# 가볍게 스크립트의 언어를 알아보자.\n",
    "\n",
    "# idle : 파이썬 idle 실행 (1학년 수업때 쓰던 파이썬 그자체 idle 등장)\n",
    "# python : 파이썬 스크립트 실행\n",
    "# exit() : 들어간 파이썬 스크립트에서 나오기\n",
    "# cd ~ : ~로 change directio\n",
    "# python ~.py <arguments> : python 파일인 ~.py를 실행하여 arguments도 입력\n",
    "# 이때에는 앞서 말한 if절과 같이 조건이 맞으면 실행하게 되는 것이다.\n",
    "    \n",
    "\"\"\"\n",
    "그렇다면 아나콘다 프롬프트를 켜서 예시로서,\n",
    "fib 모듈을 스크립트로서 실행해보자.\n",
    "\n",
    "(1) 아나콘다를 켠다.\n",
    "cd workplace\\Docs_06.Module (fib.py가 있는 곳으로 dir 설정.)\n",
    "python fibo.py 50 (50으로 fib2 매개변수 입력)\n",
    "(2) 결과 확인\n",
    "\n",
    "결과가 잘 나오는 것을 확인할 수 있을 것이다.\n",
    "\"\"\""
   ]
  },
  {
   "cell_type": "code",
   "execution_count": 4,
   "id": "ce43abdf",
   "metadata": {
    "collapsed": true
   },
   "outputs": [
    {
     "name": "stdout",
     "output_type": "stream",
     "text": [
      "['__builtins__', '__cached__', '__doc__', '__file__', '__loader__', '__name__', '__package__', '__spec__', 'fib', 'fib2']\n",
      "\n",
      "['In', 'Out', '_', '_1', '__', '___', '__builtin__', '__builtins__', '__doc__', '__loader__', '__name__', '__package__', '__spec__', '_dh', '_i', '_i1', '_i2', '_i3', '_i4', '_ih', '_ii', '_iii', '_oh', 'builtins', 'exit', 'fibo', 'get_ipython', 'quit']\n",
      "\n",
      "['ArithmeticError', 'AssertionError', 'AttributeError', 'BaseException', 'BlockingIOError', 'BrokenPipeError', 'BufferError', 'BytesWarning', 'ChildProcessError', 'ConnectionAbortedError', 'ConnectionError', 'ConnectionRefusedError', 'ConnectionResetError', 'DeprecationWarning', 'EOFError', 'Ellipsis', 'EnvironmentError', 'Exception', 'False', 'FileExistsError', 'FileNotFoundError', 'FloatingPointError', 'FutureWarning', 'GeneratorExit', 'IOError', 'ImportError', 'ImportWarning', 'IndentationError', 'IndexError', 'InterruptedError', 'IsADirectoryError', 'KeyError', 'KeyboardInterrupt', 'LookupError', 'MemoryError', 'ModuleNotFoundError', 'NameError', 'None', 'NotADirectoryError', 'NotImplemented', 'NotImplementedError', 'OSError', 'OverflowError', 'PendingDeprecationWarning', 'PermissionError', 'ProcessLookupError', 'RecursionError', 'ReferenceError', 'ResourceWarning', 'RuntimeError', 'RuntimeWarning', 'StopAsyncIteration', 'StopIteration', 'SyntaxError', 'SyntaxWarning', 'SystemError', 'SystemExit', 'TabError', 'TimeoutError', 'True', 'TypeError', 'UnboundLocalError', 'UnicodeDecodeError', 'UnicodeEncodeError', 'UnicodeError', 'UnicodeTranslateError', 'UnicodeWarning', 'UserWarning', 'ValueError', 'Warning', 'WindowsError', 'ZeroDivisionError', '__IPYTHON__', '__build_class__', '__debug__', '__doc__', '__import__', '__loader__', '__name__', '__package__', '__spec__', 'abs', 'all', 'any', 'ascii', 'bin', 'bool', 'breakpoint', 'bytearray', 'bytes', 'callable', 'chr', 'classmethod', 'compile', 'complex', 'copyright', 'credits', 'delattr', 'dict', 'dir', 'display', 'divmod', 'enumerate', 'eval', 'exec', 'execfile', 'filter', 'float', 'format', 'frozenset', 'get_ipython', 'getattr', 'globals', 'hasattr', 'hash', 'help', 'hex', 'id', 'input', 'int', 'isinstance', 'issubclass', 'iter', 'len', 'license', 'list', 'locals', 'map', 'max', 'memoryview', 'min', 'next', 'object', 'oct', 'open', 'ord', 'pow', 'print', 'property', 'range', 'repr', 'reversed', 'round', 'runfile', 'set', 'setattr', 'slice', 'sorted', 'staticmethod', 'str', 'sum', 'super', 'tuple', 'type', 'vars', 'zip']\n"
     ]
    }
   ],
   "source": [
    "# 6.3. dir() 함수\n",
    "\n",
    "# 내장함수로서 dir() 은 모듈이 정의하는 이름을 찾는 데 사용된다.\n",
    "# 인자가 없으면, 현재 모듈에서 정의한 이름을 나열하고\n",
    "# 인자가 있다면, 그 모듈에서 정의한 이름들을 나열하여 리스트로 반환해 준다.\n",
    "\n",
    "import fibo\n",
    "\n",
    "print(dir(fibo))\n",
    "print()\n",
    "print(dir())\n",
    "print()\n",
    "\n",
    "# 이 중 dir()의 결과로 공통적으로 반환된 __builtins__는 내장 함수와 변수들이 있는 표준 모듈이다.\n",
    "# 따라서 표준 모듈이 궁금하다면 아래와 같이 코드를 작성해주면 된다.\n",
    "\n",
    "import builtins\n",
    "\n",
    "print(dir(builtins))"
   ]
  },
  {
   "cell_type": "code",
   "execution_count": null,
   "id": "b89036e2",
   "metadata": {},
   "outputs": [],
   "source": [
    "# 6.4. 패키지\n",
    "\n",
    "\"\"\" 패키지란 + how import?\"\"\"\n",
    "# 패키지는 모듈들의 컬렉션이다. \n",
    "\n",
    "# 패키지 A의 모듈 B의 이름은, A.B이다.\n",
    "# 이러한 네이밍 덕분에 Numpy나 Pillow와 같은 다중 모듈 패키지의 저자들은,\n",
    "# 서로의 이름이 겹칠까 걱정햘 필요가 없어진다.\n",
    "\n",
    "# ex) import sound.effects.echo\n",
    "# ex) from sound.effects import echo\n",
    "\n",
    "# 단 이때, sound.effects 등 마지막에 오는 것이 아닌 것들은 함수나 변수, 클래스 따위여서는 안된다.\n",
    "# 반드시 패키지 혹은 서브 패키지 혹은 서브 모듈이어야만 한다.\n",
    "\n",
    "\"\"\" 구조 \"\"\"\n",
    "# 그렇다면 지금부터 패키지가 어떤 구조로 구성되어 있고, 그에 따라 어떻게 패키지를 작성할 수 있는지를 알아보자.\n",
    "\n",
    "# 우선 맨 처음에는 __init__.py 파일이 필요하다.\n",
    "# 파이썬이 디렉토리를 패키지로 취급하게 만들기 위해서이다.\n",
    "# 본 파일은 빈 파일일 수도 있고, 패키지의 초기화 코드를 실행하거나 할 수 있다.\n",
    "\n",
    "\"\"\"\n",
    "sound/                                - Top-level package\n",
    "    __init__.py                              \n",
    "    formats/                          - Subpackage for file format ~\n",
    "        __init__.py\n",
    "        wavread.py\n",
    "        wavwrite.py\n",
    "        aiffread.py\n",
    "        aiffwrite.py\n",
    "    effects/                          - Subpackage for sound effects\n",
    "        __init__.py\n",
    "        echo.py\n",
    "        surround.py\n",
    "        reverse.py\n",
    "    filters/                          - Subpackage for filters\n",
    "        __init__.py\n",
    "        equalizer.py\n",
    "        vocoder.py\n",
    "        karaoke.py\n",
    "\"\"\"\n"
   ]
  }
 ],
 "metadata": {
  "kernelspec": {
   "display_name": "Python 3 (ipykernel)",
   "language": "python",
   "name": "python3"
  },
  "language_info": {
   "codemirror_mode": {
    "name": "ipython",
    "version": 3
   },
   "file_extension": ".py",
   "mimetype": "text/x-python",
   "name": "python",
   "nbconvert_exporter": "python",
   "pygments_lexer": "ipython3",
   "version": "3.9.7"
  }
 },
 "nbformat": 4,
 "nbformat_minor": 5
}
